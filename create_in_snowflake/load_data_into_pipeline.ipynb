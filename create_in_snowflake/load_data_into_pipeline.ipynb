{
 "cells": [
  {
   "cell_type": "code",
   "execution_count": null,
   "metadata": {},
   "outputs": [],
   "source": [
    "# Import python packages\n",
    "import pandas as pd\n",
    "\n",
    "# We can also use Snowpark for our analyses!\n",
    "from snowflake.snowpark.context import get_active_session\n",
    "\n",
    "session = get_active_session()"
   ]
  },
  {
   "cell_type": "code",
   "execution_count": null,
   "metadata": {},
   "outputs": [],
   "source": [
    "# Set the path to the file\n",
    "file_path = \"insurance_dataset.csv\"\n",
    "\n",
    "df = pd.read_csv(file_path)\n",
    "df.head()"
   ]
  },
  {
   "cell_type": "code",
   "execution_count": null,
   "metadata": {},
   "outputs": [],
   "source": [
    "# Capitalize each column\n",
    "df.columns = df.columns.str.upper()"
   ]
  },
  {
   "cell_type": "markdown",
   "metadata": {},
   "source": [
    "Write the first 10k to the SOURCE_OF_TRUTH table\n"
   ]
  },
  {
   "cell_type": "code",
   "execution_count": null,
   "metadata": {},
   "outputs": [],
   "source": [
    "source_of_truth = session.write_pandas(\n",
    "    df[:10000],\n",
    "    table_name=\"SOURCE_OF_TRUTH\",\n",
    "    database=\"INSURANCE\",\n",
    "    schema=\"ML_PIPE\",\n",
    "    auto_create_table=True,\n",
    ")"
   ]
  },
  {
   "cell_type": "markdown",
   "metadata": {},
   "source": [
    "Write the remaining 990k to the INCOMING_DATA_SOURCE table to simulate data being streamed in\n"
   ]
  },
  {
   "cell_type": "code",
   "execution_count": null,
   "metadata": {},
   "outputs": [],
   "source": [
    "incoming_data_source = session.write_pandas(\n",
    "    df[10000:],\n",
    "    table_name=\"INCOMING_DATA_SOURCE\",\n",
    "    database=\"INSURANCE\",\n",
    "    schema=\"ML_PIPE\",\n",
    "    auto_create_table=True,\n",
    ")\n"
   ]
  }
 ],
 "metadata": {
  "kernelspec": {
   "display_name": "Python 3",
   "language": "python",
   "name": "python3"
  },
  "language_info": {
   "name": "python",
   "version": "3.13.1"
  }
 },
 "nbformat": 4,
 "nbformat_minor": 2
}
